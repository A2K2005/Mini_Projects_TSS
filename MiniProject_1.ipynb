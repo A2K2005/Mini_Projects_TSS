{
  "nbformat": 4,
  "nbformat_minor": 0,
  "metadata": {
    "colab": {
      "provenance": [],
      "authorship_tag": "ABX9TyN8fC0GpocP2MWuNxRmmpFs",
      "include_colab_link": true
    },
    "kernelspec": {
      "name": "python3",
      "display_name": "Python 3"
    },
    "language_info": {
      "name": "python"
    }
  },
  "cells": [
    {
      "cell_type": "markdown",
      "metadata": {
        "id": "view-in-github",
        "colab_type": "text"
      },
      "source": [
        "<a href=\"https://colab.research.google.com/github/A2K2005/Mini_Projects_TSS/blob/main/MiniProject_1.ipynb\" target=\"_parent\"><img src=\"https://colab.research.google.com/assets/colab-badge.svg\" alt=\"Open In Colab\"/></a>"
      ]
    },
    {
      "cell_type": "markdown",
      "source": [
        "# Subset Selection Problem"
      ],
      "metadata": {
        "id": "kjJFGwvKnAEz"
      }
    },
    {
      "cell_type": "markdown",
      "source": [
        "---\n",
        "Q1) Problem Statement:\n",
        "\n",
        "\n",
        "*   Find all the subsets from a set of numbers whose sum is zero.\n",
        "*   Constraint: Subset size must be 5\n",
        "*   Set={-12, -3, -6, 7, 2, -2, 6, 3, 9, -7, -5, -8, 1, 11, -9, -4}\n",
        "\n",
        "\n",
        "---"
      ],
      "metadata": {
        "id": "Pjp_wXCYnA72"
      }
    },
    {
      "cell_type": "code",
      "source": [
        "import random as r\n",
        "\n",
        "Set         = set([-12, -3, -6, 7, 2, -2, 6, 3, 9, -7, -5, -8, 1, 11, -9, -4])\n",
        "SetSize     = 5\n",
        "ResultList  = set()    \n",
        "Iterations  = 1000  \n",
        "\n",
        "for i in range(Iterations):\n",
        "\n",
        "    Chromosome = r.sample(Set,SetSize)\n",
        "    Chromosome.sort()\n",
        "\n",
        "    if sum(Chromosome) == 0:\n",
        "        ResultList.add(tuple(Chromosome))\n",
        "for r in ResultList:\n",
        "\tprint (r)\n",
        "\n",
        "print (\"\\nTotal Sets: \", len(ResultList))"
      ],
      "metadata": {
        "colab": {
          "base_uri": "https://localhost:8080/"
        },
        "id": "Gc5To8XAnfq0",
        "outputId": "30a3ca76-e331-4286-c952-87c2913cc75b"
      },
      "execution_count": 1,
      "outputs": [
        {
          "output_type": "stream",
          "name": "stdout",
          "text": [
            "(-12, -4, 1, 6, 9)\n",
            "(-8, -4, -3, 6, 9)\n",
            "(-7, -3, 1, 3, 6)\n",
            "(-7, -4, 2, 3, 6)\n",
            "(-6, -4, -3, 6, 7)\n",
            "(-4, -2, 1, 2, 3)\n",
            "(-8, -5, -2, 6, 9)\n",
            "(-9, -7, -2, 7, 11)\n",
            "(-12, -2, 1, 2, 11)\n",
            "(-5, -3, -2, 1, 9)\n",
            "(-12, -8, 3, 6, 11)\n",
            "(-4, -3, -2, 2, 7)\n",
            "(-8, -4, 2, 3, 7)\n",
            "(-12, -7, 3, 7, 9)\n",
            "(-8, -2, 1, 2, 7)\n",
            "(-7, -5, 1, 2, 9)\n",
            "(-8, -3, -2, 2, 11)\n",
            "(-9, -6, 1, 3, 11)\n",
            "(-12, -4, 3, 6, 7)\n",
            "(-8, -3, 2, 3, 6)\n",
            "(-5, -4, -3, 3, 9)\n",
            "(-9, -4, -2, 6, 9)\n",
            "(-7, -5, -4, 7, 9)\n",
            "(-12, -7, 1, 7, 11)\n",
            "(-7, -5, -3, 6, 9)\n",
            "\n",
            "Total Sets:  25\n"
          ]
        },
        {
          "output_type": "stream",
          "name": "stderr",
          "text": [
            "<ipython-input-1-14639cdb7423>:10: DeprecationWarning: Sampling from a set deprecated\n",
            "since Python 3.9 and will be removed in a subsequent version.\n",
            "  Chromosome = r.sample(Set,SetSize)\n"
          ]
        }
      ]
    },
    {
      "cell_type": "markdown",
      "source": [
        "---\n",
        "Q2) Problem Statement:\n",
        "\n",
        "\n",
        "*   Find all the subsets from a set of numbers whose sum is zero.\n",
        "*   Constraint: Subset size must be 3 to 6 only\n",
        "*   Set={-12, -3, -6, 7, 2, -2, 6, 3, 9, -7, -5, -8, 1, 11, -9, -4}\n",
        "\n",
        "\n",
        "---"
      ],
      "metadata": {
        "id": "PSEuH9R3nfgg"
      }
    },
    {
      "cell_type": "code",
      "execution_count": null,
      "metadata": {
        "id": "P6invKOpm9ul"
      },
      "outputs": [],
      "source": [
        "import random as r\n",
        "\n",
        "Set         = set([-12, -3, -6, 7, 2, -2, 6, 3, 9, -7, -5, -8, 1, 11, -9, -4])\n",
        "SetLB       = 3\n",
        "SetUB       = 6\n",
        "ResultList  = set()    \n",
        "Iterations  = 1000\n",
        "\n",
        "\n",
        "for i in range(Iterations):\n",
        " \n",
        "    SetSize = r.randint(SetLB,SetUB)\n",
        "    Chromosome = r.sample(Set,SetSize)\n",
        "    Chromosome.sort()\n",
        "\n",
        "    if sum(Chromosome) == 0:\n",
        "        ResultList.add(tuple(Chromosome))\n",
        "\n",
        "for r in ResultList:\n",
        "\tprint (r)\n",
        "\n",
        "print (\"\\nTotal Sets: \", len(ResultList))\n"
      ]
    }
  ]
}