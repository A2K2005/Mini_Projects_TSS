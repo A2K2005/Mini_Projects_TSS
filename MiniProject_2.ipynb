{
  "nbformat": 4,
  "nbformat_minor": 0,
  "metadata": {
    "colab": {
      "provenance": [],
      "authorship_tag": "ABX9TyP82WT5H2V0sltWz82quD23",
      "include_colab_link": true
    },
    "kernelspec": {
      "name": "python3",
      "display_name": "Python 3"
    },
    "language_info": {
      "name": "python"
    }
  },
  "cells": [
    {
      "cell_type": "markdown",
      "metadata": {
        "id": "view-in-github",
        "colab_type": "text"
      },
      "source": [
        "<a href=\"https://colab.research.google.com/github/A2K2005/Mini_Projects_TSS/blob/main/MiniProject_2.ipynb\" target=\"_parent\"><img src=\"https://colab.research.google.com/assets/colab-badge.svg\" alt=\"Open In Colab\"/></a>"
      ]
    },
    {
      "cell_type": "markdown",
      "source": [
        "#ComboFinder"
      ],
      "metadata": {
        "id": "VBL8FZWTpbaK"
      }
    },
    {
      "cell_type": "markdown",
      "source": [
        "\n",
        "\n",
        "---\n",
        "\n",
        "Problem Statement:\n",
        "Find all the list of products whose sum-of-price is between 290 and 310.\n",
        "\n",
        "ProductList = {p1:10, p2:15, p3:20, p4:25, p5:30, p6:35, p7:50}\n",
        "\n",
        "\n",
        "---\n",
        "\n"
      ],
      "metadata": {
        "id": "BqMsjPFqphv6"
      }
    },
    {
      "cell_type": "code",
      "execution_count": null,
      "metadata": {
        "id": "YaSr6Z0SpGqV"
      },
      "outputs": [],
      "source": [
        "import random as r\n",
        "ProductList = {'p1':10, 'p2':15, 'p3':20, 'p4':25, 'p5':30, 'p6':35, 'p7':50,\n",
        "               'p8':40, 'p9':55, 'p10':60, 'p11':65, 'p12':75, 'p13':70,\n",
        "               'p14':45}\n",
        "LB          = 290\n",
        "UB          = 310\n",
        "ResultList  = set()\n",
        "Iterations  = 1000    \n",
        "\n",
        "for i in range(Iterations):\n",
        "\n",
        "    SetSize = r.randint(2, len(ProductList)-1)\n",
        "\n",
        "    ComboList = r.sample(list(ProductList.keys()),SetSize)\n",
        "    ComboList.sort()\n",
        "\n",
        "    ComboSum = sum([ ProductList[i] for i in ComboList])\n",
        "\n",
        "    if ComboSum>= LB and ComboSum<= UB:\n",
        "      ResultList.add(tuple(ComboList))\n",
        "\n",
        "\n",
        "for r in ResultList:\n",
        "\tprint (r)\n",
        "\n",
        "print (\"\\nTotal Sets: \", len(ResultList), \"\\n\")"
      ]
    }
  ]
}