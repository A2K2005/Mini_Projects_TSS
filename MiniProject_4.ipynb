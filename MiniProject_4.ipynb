{
  "nbformat": 4,
  "nbformat_minor": 0,
  "metadata": {
    "colab": {
      "provenance": [],
      "authorship_tag": "ABX9TyOkwvdcm0gErlcLfE2buUGo",
      "include_colab_link": true
    },
    "kernelspec": {
      "name": "python3",
      "display_name": "Python 3"
    },
    "language_info": {
      "name": "python"
    }
  },
  "cells": [
    {
      "cell_type": "markdown",
      "metadata": {
        "id": "view-in-github",
        "colab_type": "text"
      },
      "source": [
        "<a href=\"https://colab.research.google.com/github/A2K2005/Mini_Projects_TSS/blob/main/MiniProject_4.ipynb\" target=\"_parent\"><img src=\"https://colab.research.google.com/assets/colab-badge.svg\" alt=\"Open In Colab\"/></a>"
      ]
    },
    {
      "cell_type": "markdown",
      "source": [
        "\n",
        "\n",
        "---\n",
        "\n",
        "\n",
        "# **Marks Adding**\n",
        "\n",
        "\n",
        "\n",
        "\n",
        "\n",
        "\n",
        "---\n",
        "\n",
        "\n"
      ],
      "metadata": {
        "id": "KB5KJ-W3QWsk"
      }
    },
    {
      "cell_type": "code",
      "execution_count": null,
      "metadata": {
        "id": "jdcF8r7_QUq0"
      },
      "outputs": [],
      "source": [
        "import csv\n",
        "\n",
        "def calculate_total_marks(input_file, output_file):\n",
        "    marks_by_roll = {}\n",
        "\n",
        "    with open(input_file, 'r') as file:\n",
        "        csv_reader = csv.reader(file)\n",
        "\n",
        "        next(csv_reader)\n",
        "\n",
        "        for row in csv_reader:\n",
        "            roll_number, marks = row\n",
        "            marks = int(marks)\n",
        "\n",
        "            if roll_number not in marks_by_roll:\n",
        "                marks_by_roll[roll_number] = marks\n",
        "            else:\n",
        "                marks_by_roll[roll_number] += marks\n",
        "\n",
        "    with open(output_file, 'w', newline='') as file:\n",
        "        csv_writer = csv.writer(file)\n",
        "        csv_writer.writerow(['Roll Number', 'Total Marks'])\n",
        "\n",
        "        for roll_number, total_marks in marks_by_roll.items():\n",
        "            csv_writer.writerow([roll_number, total_marks])\n",
        "\n",
        "input_file = 'Mini Project - Marks_Adding.csv'\n",
        "output_file = 'output.csv'  \n",
        "\n",
        "calculate_total_marks(input_file, output_file)"
      ]
    }
  ]
}